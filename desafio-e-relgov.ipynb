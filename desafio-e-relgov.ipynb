{
 "cells": [
  {
   "cell_type": "code",
   "execution_count": 21,
   "metadata": {},
   "outputs": [],
   "source": [
    "# importacoes\n",
    "\n",
    "from requests import Session\n",
    "import pandas as pd\n",
    "import re\n",
    "from html import unescape\n",
    "from requests.exceptions import ChunkedEncodingError, ReadTimeout, RequestException\n",
    "from time import sleep"
   ]
  },
  {
   "cell_type": "code",
   "execution_count": 22,
   "id": "59d434dc",
   "metadata": {},
   "outputs": [],
   "source": [
    "# declaracoes\n",
    "\n",
    "session = Session()\n",
    "def get_content_president(year, month, day):\n",
    "  for attempt in range(3):\n",
    "    try:\n",
    "      response = session.get(f\"https://www.bcb.gov.br/api/servico/sitebcb/agendadiretoria?lista=Agenda%20da%20Diretoria&inicioAgenda=%272023-02-27%27&fimAgenda=%27{year}-{month}-{day}%27\", timeout=10)\n",
    "      if (response.status_code == 200):\n",
    "        data = response.json()\n",
    "        if (data[\"conteudo\"][0][\"idAutoridade\"] == 39):\n",
    "          return data[\"conteudo\"][0]\n",
    "    except (ChunkedEncodingError, ReadTimeout, RequestException):\n",
    "      if attempt < 2:\n",
    "        sleep(2)\n",
    "      else:\n",
    "        raise\n",
    "  return None\n",
    "\n",
    "\n",
    "descriptions = {}  # { \"sheet_name\": [...descriptions], ... }\n",
    "dfs_sheets = {}  # { \"sheet_name\": df, ... }"
   ]
  },
  {
   "cell_type": "code",
   "execution_count": 24,
   "id": "3dedfdeb",
   "metadata": {},
   "outputs": [],
   "source": [
    "# obtencao dos dados de 2023\n",
    "year = 2023\n",
    "for month in range(2, 4):\n",
    "  sheet_name = f\"{month}-{year}\"\n",
    "  descriptions[sheet_name] = []\n",
    "  if month == 2:\n",
    "    content = get_content_president(year, month, 28)\n",
    "    descriptions[sheet_name].append(content[\"descricao\"])\n",
    "  elif month in [3, 5, 7, 8, 10, 12]:\n",
    "    for day in range(1, 32):\n",
    "      content = get_content_president(year, month, day)\n",
    "      descriptions[sheet_name].append(content[\"descricao\"])\n",
    "  elif month in [4, 6, 9, 11]:\n",
    "    for day in range(1, 31):\n",
    "      content = get_content_president(year, month, day)\n",
    "      descriptions[sheet_name].append(content[\"descricao\"])"
   ]
  },
  {
   "cell_type": "code",
   "execution_count": null,
   "id": "14dd7073",
   "metadata": {},
   "outputs": [],
   "source": [
    "# obtencao dos dados de 2024\n",
    "year = 2024\n",
    "for month in range(5, 7):\n",
    "  sheet_name = f\"{month}-{year}\"\n",
    "  descriptions[sheet_name] = []\n",
    "  if month in [1, 3, 5]:\n",
    "    for day in range(1, 32):\n",
    "      content = get_content_president(year, month, day)\n",
    "      descriptions[sheet_name].append(content[\"descricao\"])\n",
    "  elif month == 4:\n",
    "    for day in range(1, 31):\n",
    "      content = get_content_president(year, month, day)\n",
    "      descriptions[sheet_name].append(content[\"descricao\"])\n",
    "  elif month == 2:\n",
    "    for day in range(1, 30):\n",
    "      content = get_content_president(year, month, day)\n",
    "      descriptions[sheet_name].append(content[\"descricao\"])\n",
    "  elif month == 6:\n",
    "    for day in range(1, 29):\n",
    "      content = get_content_president(year, month, day)\n",
    "      descriptions[sheet_name].append(content[\"descricao\"])"
   ]
  },
  {
   "cell_type": "code",
   "execution_count": null,
   "id": "b4682160",
   "metadata": {},
   "outputs": [],
   "source": [
    "for sheet_name, descriptions_texts in descriptions.items:\n",
    "  # limpeza dos dados\n",
    "  descriptions_texts_normalized = [re.sub(r'<[^>]+>', '', description.encode(\"utf-8\").decode(\"unicode_escape\")) for description in descriptions_texts]\n",
    "\n",
    "  # criacao das tabelas para exibicao dos dados\n",
    "  df = pd.DataFrame({\n",
    "    \"descricao do evento\": descriptions_texts_normalized\n",
    "  })\n",
    "  dfs_sheets[sheet_name] = df"
   ]
  },
  {
   "cell_type": "code",
   "execution_count": null,
   "id": "aa47249a",
   "metadata": {},
   "outputs": [],
   "source": [
    "# exportacao dos dados\n",
    "excel_file_name = \"agenda.xlsx\"\n",
    "\n",
    "df_xlsx = pd.read_excel(excel_file_name)\n",
    "df_xlsx_no_empty_cells = df_xlsx.dropna(how=\"any\").dropna(axis=1, how=\"any\")\n",
    "df_xlsx_no_empty_cells.to_excel(excel_file_name, index=False)\n",
    "\n",
    "with pd.ExcelWriter(excel_file_name) as writer:\n",
    "  for sheet_name, df in dfs_sheets.items():\n",
    "    df.to_excel(writer, sheet_name=sheet_name)"
   ]
  }
 ],
 "metadata": {
  "kernelspec": {
   "display_name": "base",
   "language": "python",
   "name": "python3"
  },
  "language_info": {
   "codemirror_mode": {
    "name": "ipython",
    "version": 3
   },
   "file_extension": ".py",
   "mimetype": "text/x-python",
   "name": "python",
   "nbconvert_exporter": "python",
   "pygments_lexer": "ipython3",
   "version": "3.12.4"
  }
 },
 "nbformat": 4,
 "nbformat_minor": 5
}
