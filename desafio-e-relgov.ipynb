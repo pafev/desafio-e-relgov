{
 "cells": [
  {
   "cell_type": "code",
   "execution_count": 1,
   "metadata": {},
   "outputs": [],
   "source": [
    "import requests\n",
    "import pandas as pd\n",
    "import re\n",
    "from html import unescape"
   ]
  },
  {
   "cell_type": "code",
   "execution_count": 2,
   "id": "59d434dc",
   "metadata": {},
   "outputs": [],
   "source": [
    "dfs_sheets = {}\n",
    "descriptions = []"
   ]
  },
  {
   "cell_type": "code",
   "execution_count": 3,
   "id": "27aebe70",
   "metadata": {},
   "outputs": [],
   "source": [
    "def get_content_president(year, month, day):\n",
    "  response = requests.get(f\"https://www.bcb.gov.br/api/servico/sitebcb/agendadiretoria?lista=Agenda%20da%20Diretoria&inicioAgenda=%272023-02-27%27&fimAgenda=%27{year}-{month}-{day}%27\")\n",
    "  if (response.status_code == 200):\n",
    "    data = response.json()\n",
    "    if (data[\"conteudo\"][0][\"idAutoridade\"] == 39):\n",
    "      return data[\"conteudo\"][0]\n",
    "  return None"
   ]
  },
  {
   "cell_type": "code",
   "execution_count": 4,
   "id": "3dedfdeb",
   "metadata": {},
   "outputs": [
    {
     "ename": "UnicodeEncodeError",
     "evalue": "'ascii' codec can't encode character '\\xe3' in position 76: ordinal not in range(128)",
     "output_type": "error",
     "traceback": [
      "\u001b[0;31m---------------------------------------------------------------------------\u001b[0m",
      "\u001b[0;31mUnicodeEncodeError\u001b[0m                        Traceback (most recent call last)",
      "Cell \u001b[0;32mIn[4], line 5\u001b[0m\n\u001b[1;32m      3\u001b[0m \u001b[38;5;28;01mif\u001b[39;00m month \u001b[38;5;241m==\u001b[39m \u001b[38;5;241m2\u001b[39m:\n\u001b[1;32m      4\u001b[0m   content \u001b[38;5;241m=\u001b[39m get_content_president(year, month, \u001b[38;5;241m28\u001b[39m)\n\u001b[0;32m----> 5\u001b[0m   description \u001b[38;5;241m=\u001b[39m content[\u001b[38;5;124m\"\u001b[39m\u001b[38;5;124mdescricao\u001b[39m\u001b[38;5;124m\"\u001b[39m]\u001b[38;5;241m.\u001b[39mencode(\u001b[38;5;124m\"\u001b[39m\u001b[38;5;124mascii\u001b[39m\u001b[38;5;124m\"\u001b[39m)\u001b[38;5;241m.\u001b[39mdecode(\u001b[38;5;124m\"\u001b[39m\u001b[38;5;124municode_escape\u001b[39m\u001b[38;5;124m\"\u001b[39m)\n\u001b[1;32m      6\u001b[0m   description_regex \u001b[38;5;241m=\u001b[39m re\u001b[38;5;241m.\u001b[39msub(\u001b[38;5;124mr\u001b[39m\u001b[38;5;124m'\u001b[39m\u001b[38;5;124m<[^>]+>\u001b[39m\u001b[38;5;124m'\u001b[39m, \u001b[38;5;124m'\u001b[39m\u001b[38;5;124m'\u001b[39m, description)\n\u001b[1;32m      7\u001b[0m   description_normalized \u001b[38;5;241m=\u001b[39m unescape(description_regex)\n",
      "\u001b[0;31mUnicodeEncodeError\u001b[0m: 'ascii' codec can't encode character '\\xe3' in position 76: ordinal not in range(128)"
     ]
    }
   ],
   "source": [
    "year = 2023\n",
    "for month in range(2, 13):\n",
    "  if month == 2:\n",
    "    content = get_content_president(year, month, 28)\n",
    "    description = content[\"descricao\"].encode(\"utf-8\").decode(\"unicode_escape\")\n",
    "    description_regex = re.sub(r'<[^>]+>', '', description)\n",
    "    description_normalized = unescape(description_regex)\n",
    "    descriptions.append(description_normalized)\n",
    "    df = pd.DataFrame({\n",
    "      \"descricoes\": descriptions.copy(),\n",
    "    }, index=[28])\n",
    "    descriptions.clear()\n",
    "    dfs_sheets[f\"{month}-{year}\"] = df\n",
    "  elif month in [3, 5, 7, 8, 10, 12]:\n",
    "    for day in range(1, 32):\n",
    "      content = get_content_president(year, month, day)\n",
    "      description = content[\"descricao\"].encode(\"utf-8\").decode(\"unicode_escape\")\n",
    "      description_regex = re.sub(r'<[^>]+>', '', description)\n",
    "      description_normalized = unescape(description_regex)\n",
    "      descriptions.append(description_normalized)\n",
    "    df = pd.DataFrame({\n",
    "      \"descricoes\": descriptions.copy()\n",
    "    }, index=range(1, len(descriptions) + 1))\n",
    "    descriptions.clear()\n",
    "    dfs_sheets[f\"{month}-{year}\"] = df\n",
    "  elif month in [4, 6, 9, 11]:\n",
    "    for day in range(1, 31):\n",
    "      content = get_content_president(year, month, day)\n",
    "      description = content[\"descricao\"].encode(\"utf-8\").decode(\"unicode_escape\")\n",
    "      description_regex = re.sub(r'<[^>]+>', '', description)\n",
    "      description_normalized = unescape(description_regex)\n",
    "      descriptions.append(description_normalized)\n",
    "    df = pd.DataFrame({\n",
    "      \"descricoes\": descriptions.copy()\n",
    "    }, index=range(1, len(descriptions) + 1))\n",
    "    descriptions.clear()\n",
    "    dfs_sheets[f\"{month}-{year}\"] = df"
   ]
  },
  {
   "cell_type": "code",
   "execution_count": null,
   "id": "14dd7073",
   "metadata": {},
   "outputs": [],
   "source": [
    "year = 2024\n",
    "for month in range(1, 7):\n",
    "  if month in [1, 3, 5]:\n",
    "    for day in range(1, 32):\n",
    "      content = get_content_president(year, month, day)\n",
    "      description = content[\"descricao\"].encode(\"utf-8\").decode(\"unicode_escape\")\n",
    "      description_regex = re.sub(r'<[^>]+>', '', description)\n",
    "      description_normalized = unescape(description_regex)\n",
    "      descriptions.append(description_normalized)\n",
    "    df = pd.DataFrame({\n",
    "      \"descricoes\": descriptions.copy()\n",
    "    }, index=range(1, len(descriptions) + 1))\n",
    "    descriptions.clear()\n",
    "    dfs_sheets[f\"{month}-{year}\"] = df\n",
    "  elif month == 4:\n",
    "    for day in range(1, 31):\n",
    "      content = get_content_president(year, month, day)\n",
    "      description = content[\"descricao\"].encode(\"utf-8\").decode(\"unicode_escape\")\n",
    "      description_regex = re.sub(r'<[^>]+>', '', description)\n",
    "      description_normalized = unescape(description_regex)\n",
    "      descriptions.append(description_normalized)\n",
    "    df = pd.DataFrame({\n",
    "      \"descricoes\": descriptions.copy()\n",
    "    }, index=range(1, len(descriptions) + 1))\n",
    "    descriptions.clear()\n",
    "    dfs_sheets[f\"{month}-{year}\"] = df\n",
    "  elif month == 2:\n",
    "    for day in range(1, 30):\n",
    "      content = get_content_president(year, month, day)\n",
    "      description = content[\"descricao\"].encode(\"utf-8\").decode(\"unicode_escape\")\n",
    "      description_regex = re.sub(r'<[^>]+>', '', description)\n",
    "      description_normalized = unescape(description_regex)\n",
    "      descriptions.append(description_normalized)\n",
    "    df = pd.DataFrame({\n",
    "      \"descricoes\": descriptions.copy()\n",
    "    }, index=range(1, len(descriptions) + 1))\n",
    "    descriptions.clear()\n",
    "    dfs_sheets[f\"{month}-{year}\"] = df\n",
    "  elif month == 6:\n",
    "    for day in range(1, 29):\n",
    "      content = get_content_president(year, month, day)\n",
    "      description = content[\"descricao\"].encode(\"utf-8\").decode(\"unicode_escape\")\n",
    "      description_regex = re.sub(r'<[^>]+>', '', description)\n",
    "      description_normalized = unescape(description_regex)\n",
    "      descriptions.append(description_normalized)\n",
    "    df = pd.DataFrame({\n",
    "      \"descricoes\": descriptions.copy()\n",
    "    }, index=range(1, len(descriptions) + 1))\n",
    "    descriptions.clear()\n",
    "    dfs_sheets[f\"{month}-{year}\"] = df"
   ]
  },
  {
   "cell_type": "code",
   "execution_count": null,
   "id": "aa47249a",
   "metadata": {},
   "outputs": [],
   "source": [
    "df_xlsx = pd.read_excel(\"agenda.xlsx\")\n",
    "df_xlsx_no_empty_lines = df_xlsx.dropna(how=\"any\")\n",
    "df_xlsx_no_empty_columns = df_xlsx_no_empty_lines.dropna(axis=1, how=\"any\")\n",
    "df_xlsx_no_empty_columns.to_excel(\"agenda.xlsx\", index=False)\n",
    "\n",
    "with pd.ExcelWriter(\"agend.xlsx\") as writer:\n",
    "  for sheet_name, df in dfs_sheets.items():\n",
    "    df.to_excel(writer, sheet_name=sheet_name)"
   ]
  }
 ],
 "metadata": {
  "kernelspec": {
   "display_name": "base",
   "language": "python",
   "name": "python3"
  },
  "language_info": {
   "codemirror_mode": {
    "name": "ipython",
    "version": 3
   },
   "file_extension": ".py",
   "mimetype": "text/x-python",
   "name": "python",
   "nbconvert_exporter": "python",
   "pygments_lexer": "ipython3",
   "version": "3.12.4"
  }
 },
 "nbformat": 4,
 "nbformat_minor": 5
}
