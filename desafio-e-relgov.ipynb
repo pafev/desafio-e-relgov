{
 "cells": [
  {
   "cell_type": "code",
   "execution_count": 31,
   "metadata": {},
   "outputs": [],
   "source": [
    "# importacoes\n",
    "\n",
    "from requests import Session\n",
    "import pandas as pd\n",
    "import re\n",
    "from html import unescape\n",
    "from requests.exceptions import ChunkedEncodingError, ReadTimeout, RequestException\n",
    "from time import sleep"
   ]
  },
  {
   "cell_type": "code",
   "execution_count": 32,
   "id": "59d434dc",
   "metadata": {},
   "outputs": [],
   "source": [
    "# declaracoes\n",
    "\n",
    "session = Session()\n",
    "def get_content_president(year, month, day):\n",
    "  for attempt in range(3):\n",
    "    try:\n",
    "      response = session.get(f\"https://www.bcb.gov.br/api/servico/sitebcb/agendadiretoria?lista=Agenda%20da%20Diretoria&inicioAgenda=%272023-02-27%27&fimAgenda=%27{year}-{month}-{day}%27\", timeout=10)\n",
    "      if (response.status_code == 200):\n",
    "        data = response.json()\n",
    "        if (data[\"conteudo\"][0][\"idAutoridade\"] == 39):\n",
    "          return data[\"conteudo\"][0]\n",
    "    except (ChunkedEncodingError, ReadTimeout, RequestException):\n",
    "      if attempt < 2:\n",
    "        sleep(2)\n",
    "      else:\n",
    "        raise\n",
    "  return None\n",
    "\n",
    "\n",
    "descriptions = {}  # { \"sheet_name\": [...descriptions], ... }\n",
    "dfs_sheets = {}  # { \"sheet_name\": df, ... }"
   ]
  },
  {
   "cell_type": "code",
   "execution_count": 33,
   "id": "3dedfdeb",
   "metadata": {},
   "outputs": [],
   "source": [
    "# obtencao dos dados de 2023\n",
    "year = 2023\n",
    "for month in range(2, 4):\n",
    "  sheet_name = f\"{month}-{year}\"\n",
    "  descriptions[sheet_name] = []\n",
    "  if month == 2:\n",
    "    content = get_content_president(year, month, 28)\n",
    "    descriptions[sheet_name].append(content[\"descricao\"])\n",
    "  elif month in [3, 5, 7, 8, 10, 12]:\n",
    "    for day in range(1, 32):\n",
    "      content = get_content_president(year, month, day)\n",
    "      descriptions[sheet_name].append(content[\"descricao\"])\n",
    "  elif month in [4, 6, 9, 11]:\n",
    "    for day in range(1, 31):\n",
    "      content = get_content_president(year, month, day)\n",
    "      descriptions[sheet_name].append(content[\"descricao\"])"
   ]
  },
  {
   "cell_type": "code",
   "execution_count": 34,
   "id": "14dd7073",
   "metadata": {},
   "outputs": [],
   "source": [
    "# obtencao dos dados de 2024\n",
    "year = 2024\n",
    "for month in range(5, 7):\n",
    "  sheet_name = f\"{month}-{year}\"\n",
    "  descriptions[sheet_name] = []\n",
    "  if month in [1, 3, 5]:\n",
    "    for day in range(1, 32):\n",
    "      content = get_content_president(year, month, day)\n",
    "      descriptions[sheet_name].append(content[\"descricao\"])\n",
    "  elif month == 4:\n",
    "    for day in range(1, 31):\n",
    "      content = get_content_president(year, month, day)\n",
    "      descriptions[sheet_name].append(content[\"descricao\"])\n",
    "  elif month == 2:\n",
    "    for day in range(1, 30):\n",
    "      content = get_content_president(year, month, day)\n",
    "      descriptions[sheet_name].append(content[\"descricao\"])\n",
    "  elif month == 6:\n",
    "    for day in range(1, 29):\n",
    "      content = get_content_president(year, month, day)\n",
    "      descriptions[sheet_name].append(content[\"descricao\"])"
   ]
  },
  {
   "cell_type": "code",
   "execution_count": 45,
   "id": "b4682160",
   "metadata": {},
   "outputs": [],
   "source": [
    "for sheet_name, descriptions_texts in descriptions.items():\n",
    "  # limpeza dos dados\n",
    "  descriptions_texts_readable = []\n",
    "  for description in descriptions_texts:\n",
    "    description_normalized = re.sub(r'<[^>]+>', \"\", unescape(description))\n",
    "    description_formatted = re.sub(r'(\\d{2}:\\d{2}\\sàs\\s\\d{2}:\\d{2}\\s\\(horário\\slocal\\))', r'\\n\\1', description_normalized)\n",
    "    descriptions_texts_readable.append(description_formatted)\n",
    "\n",
    "  # criacao das tabelas para exibicao dos dados\n",
    "  df = pd.DataFrame({\n",
    "    \"programacao do dia\": descriptions_texts_readable\n",
    "  }, index=range(1, len(descriptions_texts_readable) + 1))\n",
    "  dfs_sheets[sheet_name] = df"
   ]
  },
  {
   "cell_type": "code",
   "execution_count": 46,
   "id": "aa47249a",
   "metadata": {},
   "outputs": [],
   "source": [
    "# exportacao dos dados\n",
    "excel_file_name = \"agenda.xlsx\"\n",
    "\n",
    "with pd.ExcelWriter(excel_file_name) as writer:\n",
    "  for sheet_name, df in dfs_sheets.items():\n",
    "    df.to_excel(writer, sheet_name=sheet_name)"
   ]
  }
 ],
 "metadata": {
  "kernelspec": {
   "display_name": "base",
   "language": "python",
   "name": "python3"
  },
  "language_info": {
   "codemirror_mode": {
    "name": "ipython",
    "version": 3
   },
   "file_extension": ".py",
   "mimetype": "text/x-python",
   "name": "python",
   "nbconvert_exporter": "python",
   "pygments_lexer": "ipython3",
   "version": "3.12.4"
  }
 },
 "nbformat": 4,
 "nbformat_minor": 5
}
